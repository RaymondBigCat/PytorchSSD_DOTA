{
 "cells": [
  {
   "cell_type": "code",
   "execution_count": null,
   "metadata": {},
   "outputs": [],
   "source": [
    "dataset = DOTA.DOTA('/media/raymond/MainDrive/Dataset/DOTA/train_test',parseMode='parse_dota_rec')"
   ]
  },
  {
   "cell_type": "code",
   "execution_count": null,
   "metadata": {},
   "outputs": [],
   "source": [
    "import sys\n",
    "sys.path"
   ]
  },
  {
   "cell_type": "code",
   "execution_count": 5,
   "metadata": {},
   "outputs": [
    {
     "name": "stdout",
     "output_type": "stream",
     "text": [
      " DOTA dataset has been successfully loaded \n"
     ]
    }
   ],
   "source": [
    "from DOTA_devkit import DOTA\n",
    "# 不需要单独import一个dota_utils了\n",
    "dataset = DOTA.DOTA('/media/raymond/MainDrive/Dataset/DOTA/train_test',parseMode='parse_dota_rec')"
   ]
  },
  {
   "cell_type": "code",
   "execution_count": 3,
   "metadata": {},
   "outputs": [
    {
     "ename": "AttributeError",
     "evalue": "module 'DOTA_devkit' has no attribute 'DOTA'",
     "output_type": "error",
     "traceback": [
      "\u001b[0;31m---------------------------------------------------------------------------\u001b[0m",
      "\u001b[0;31mAttributeError\u001b[0m                            Traceback (most recent call last)",
      "\u001b[0;32m<ipython-input-3-35b714fb632c>\u001b[0m in \u001b[0;36m<module>\u001b[0;34m()\u001b[0m\n\u001b[1;32m      1\u001b[0m \u001b[0;32mimport\u001b[0m \u001b[0mDOTA_devkit\u001b[0m\u001b[0;34m\u001b[0m\u001b[0m\n\u001b[0;32m----> 2\u001b[0;31m \u001b[0mDOTA_devkit\u001b[0m\u001b[0;34m.\u001b[0m\u001b[0mDOTA\u001b[0m\u001b[0;34m.\u001b[0m\u001b[0mDOTA\u001b[0m\u001b[0;34m(\u001b[0m\u001b[0;34m'/media/raymond/MainDrive/Dataset/DOTA/train_test'\u001b[0m\u001b[0;34m,\u001b[0m\u001b[0mparseMode\u001b[0m\u001b[0;34m=\u001b[0m\u001b[0;34m'parse_dota_rec'\u001b[0m\u001b[0;34m)\u001b[0m\u001b[0;34m\u001b[0m\u001b[0m\n\u001b[0m",
      "\u001b[0;31mAttributeError\u001b[0m: module 'DOTA_devkit' has no attribute 'DOTA'"
     ]
    }
   ],
   "source": [
    "import DOTA_devkit\n",
    "DOTA_devkit.DOTA.DOTA('/media/raymond/MainDrive/Dataset/DOTA/train_test',parseMode='parse_dota_rec')"
   ]
  },
  {
   "cell_type": "code",
   "execution_count": 2,
   "metadata": {},
   "outputs": [
    {
     "ename": "AttributeError",
     "evalue": "module 'DOTA_devkit' has no attribute 'DOTA'",
     "output_type": "error",
     "traceback": [
      "\u001b[0;31m---------------------------------------------------------------------------\u001b[0m",
      "\u001b[0;31mAttributeError\u001b[0m                            Traceback (most recent call last)",
      "\u001b[0;32m<ipython-input-2-3dd2f41da8e7>\u001b[0m in \u001b[0;36m<module>\u001b[0;34m()\u001b[0m\n\u001b[0;32m----> 1\u001b[0;31m \u001b[0mdataset\u001b[0m \u001b[0;34m=\u001b[0m \u001b[0mDOTA_devkit\u001b[0m\u001b[0;34m.\u001b[0m\u001b[0mDOTA\u001b[0m\u001b[0;34m.\u001b[0m\u001b[0mDOTA\u001b[0m\u001b[0;34m(\u001b[0m\u001b[0;34m'/media/raymond/MainDrive/Dataset/DOTA/train_test'\u001b[0m\u001b[0;34m,\u001b[0m\u001b[0mparseMode\u001b[0m\u001b[0;34m=\u001b[0m\u001b[0;34m'parse_dota_rec'\u001b[0m\u001b[0;34m)\u001b[0m\u001b[0;34m\u001b[0m\u001b[0m\n\u001b[0m",
      "\u001b[0;31mAttributeError\u001b[0m: module 'DOTA_devkit' has no attribute 'DOTA'"
     ]
    }
   ],
   "source": [
    "dataset = DOTA_devkit.DOTA.DOTA('/media/raymond/MainDrive/Dataset/DOTA/train_test',parseMode='parse_dota_rec')"
   ]
  },
  {
   "cell_type": "code",
   "execution_count": 50,
   "metadata": {},
   "outputs": [],
   "source": [
    "class Solution(object):\n",
    "    def numSquares(self, n):\n",
    "        \"\"\"\n",
    "        :type n: int\n",
    "        :rtype: int\n",
    "        \"\"\"\n",
    "        seq = [] #存储待组合平方数\n",
    "        elem = 1 #生成平方数\n",
    "        nums = [] #平方数个数计数\n",
    "        while elem*elem <= n:\n",
    "            seq.append(elem*elem)\n",
    "            elem += 1\n",
    "        if len(seq) == 0:\n",
    "            nums.append(1)\n",
    "            return min(nums)\n",
    "        for i in range(len(seq)):\n",
    "            index = -i-1\n",
    "            res =[]\n",
    "            while sum(res) != n:\n",
    "                if sum(res)+seq[index] > n:\n",
    "                    index -= 1\n",
    "                    continue\n",
    "                elif sum(res)+seq[index] < n:\n",
    "                    res.append(seq[index])\n",
    "                elif sum(res)+seq[index] == n:\n",
    "                    res.append(seq[index])\n",
    "                    nums.append(len(res))\n",
    "                    break\n",
    "            \n",
    "        return min(nums)\n",
    "        "
   ]
  },
  {
   "cell_type": "code",
   "execution_count": 51,
   "metadata": {},
   "outputs": [
    {
     "data": {
      "text/plain": [
       "4"
      ]
     },
     "execution_count": 51,
     "metadata": {},
     "output_type": "execute_result"
    }
   ],
   "source": [
    "a = Solution()\n",
    "a.numSquares(43)"
   ]
  },
  {
   "cell_type": "code",
   "execution_count": 9,
   "metadata": {},
   "outputs": [
    {
     "name": "stdout",
     "output_type": "stream",
     "text": [
      "-1\n",
      "-2\n",
      "-3\n"
     ]
    }
   ],
   "source": [
    "for i in range(3):\n",
    "    print(-i-1)"
   ]
  },
  {
   "cell_type": "code",
   "execution_count": 32,
   "metadata": {},
   "outputs": [
    {
     "data": {
      "text/plain": [
       "0"
      ]
     },
     "execution_count": 32,
     "metadata": {},
     "output_type": "execute_result"
    }
   ],
   "source": [
    "res = []\n",
    "sum(res)"
   ]
  },
  {
   "cell_type": "code",
   "execution_count": 46,
   "metadata": {},
   "outputs": [],
   "source": [
    "from math import sqrt\n",
    "class Solution:\n",
    "    def numSquares(self, n: int) -> int:\n",
    "        ans = n\n",
    "        maxn = int(sqrt(n))\n",
    "        dp = [_ for _ in range(n + 1)]\n",
    "        for i in range(1, maxn + 1):\n",
    "            for j in range(i * i, n + 1):\n",
    "                dp[j] = min(dp[j], dp[j - i * i] + 1)\n",
    "        return dp[n]"
   ]
  },
  {
   "cell_type": "code",
   "execution_count": 47,
   "metadata": {},
   "outputs": [
    {
     "data": {
      "text/plain": [
       "3"
      ]
     },
     "execution_count": 47,
     "metadata": {},
     "output_type": "execute_result"
    }
   ],
   "source": [
    "a = Solution()\n",
    "a.numSquares(43)"
   ]
  },
  {
   "cell_type": "code",
   "execution_count": 48,
   "metadata": {},
   "outputs": [],
   "source": [
    " def numSquares(self, n):\n",
    "        \"\"\"\n",
    "        :type n: int\n",
    "        :rtype: int\n",
    "        \"\"\"\n",
    "        while n % 4 == 0: \n",
    "            n /= 4 \n",
    "        if n % 8 == 7: \n",
    "            return 4 \n",
    "        a = 0 \n",
    "        while a**2 <= n: \n",
    "            b = int((n - a**2)**0.5) \n",
    "            if a**2 + b**2 == n: \n",
    "                return (not not a) + (not not b) \n",
    "            a += 1 \n",
    "        return 3"
   ]
  },
  {
   "cell_type": "code",
   "execution_count": 49,
   "metadata": {},
   "outputs": [
    {
     "data": {
      "text/plain": [
       "3"
      ]
     },
     "execution_count": 49,
     "metadata": {},
     "output_type": "execute_result"
    }
   ],
   "source": [
    "a = Solution()\n",
    "a.numSquares(43)"
   ]
  },
  {
   "cell_type": "code",
   "execution_count": null,
   "metadata": {},
   "outputs": [],
   "source": []
  }
 ],
 "metadata": {
  "kernelspec": {
   "display_name": "Python 3",
   "language": "python",
   "name": "python3"
  },
  "language_info": {
   "codemirror_mode": {
    "name": "ipython",
    "version": 3
   },
   "file_extension": ".py",
   "mimetype": "text/x-python",
   "name": "python",
   "nbconvert_exporter": "python",
   "pygments_lexer": "ipython3",
   "version": "3.6.4"
  }
 },
 "nbformat": 4,
 "nbformat_minor": 2
}
