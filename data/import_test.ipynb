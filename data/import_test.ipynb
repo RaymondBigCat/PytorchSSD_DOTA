{
 "cells": [
  {
   "cell_type": "code",
   "execution_count": null,
   "metadata": {},
   "outputs": [],
   "source": [
    "dataset = DOTA.DOTA('/media/raymond/MainDrive/Dataset/DOTA/train_test',parseMode='parse_dota_rec')"
   ]
  },
  {
   "cell_type": "code",
   "execution_count": null,
   "metadata": {},
   "outputs": [],
   "source": [
    "import sys\n",
    "sys.path"
   ]
  },
  {
   "cell_type": "code",
   "execution_count": 5,
   "metadata": {},
   "outputs": [
    {
     "name": "stdout",
     "output_type": "stream",
     "text": [
      " DOTA dataset has been successfully loaded \n"
     ]
    }
   ],
   "source": [
    "from DOTA_devkit import DOTA\n",
    "# 不需要单独import一个dota_utils了\n",
    "dataset = DOTA.DOTA('/media/raymond/MainDrive/Dataset/DOTA/train_test',parseMode='parse_dota_rec')"
   ]
  },
  {
   "cell_type": "code",
   "execution_count": 3,
   "metadata": {},
   "outputs": [
    {
     "ename": "AttributeError",
     "evalue": "module 'DOTA_devkit' has no attribute 'DOTA'",
     "output_type": "error",
     "traceback": [
      "\u001b[0;31m---------------------------------------------------------------------------\u001b[0m",
      "\u001b[0;31mAttributeError\u001b[0m                            Traceback (most recent call last)",
      "\u001b[0;32m<ipython-input-3-35b714fb632c>\u001b[0m in \u001b[0;36m<module>\u001b[0;34m()\u001b[0m\n\u001b[1;32m      1\u001b[0m \u001b[0;32mimport\u001b[0m \u001b[0mDOTA_devkit\u001b[0m\u001b[0;34m\u001b[0m\u001b[0m\n\u001b[0;32m----> 2\u001b[0;31m \u001b[0mDOTA_devkit\u001b[0m\u001b[0;34m.\u001b[0m\u001b[0mDOTA\u001b[0m\u001b[0;34m.\u001b[0m\u001b[0mDOTA\u001b[0m\u001b[0;34m(\u001b[0m\u001b[0;34m'/media/raymond/MainDrive/Dataset/DOTA/train_test'\u001b[0m\u001b[0;34m,\u001b[0m\u001b[0mparseMode\u001b[0m\u001b[0;34m=\u001b[0m\u001b[0;34m'parse_dota_rec'\u001b[0m\u001b[0;34m)\u001b[0m\u001b[0;34m\u001b[0m\u001b[0m\n\u001b[0m",
      "\u001b[0;31mAttributeError\u001b[0m: module 'DOTA_devkit' has no attribute 'DOTA'"
     ]
    }
   ],
   "source": [
    "import DOTA_devkit\n",
    "DOTA_devkit.DOTA.DOTA('/media/raymond/MainDrive/Dataset/DOTA/train_test',parseMode='parse_dota_rec')"
   ]
  },
  {
   "cell_type": "code",
   "execution_count": 2,
   "metadata": {},
   "outputs": [
    {
     "ename": "AttributeError",
     "evalue": "module 'DOTA_devkit' has no attribute 'DOTA'",
     "output_type": "error",
     "traceback": [
      "\u001b[0;31m---------------------------------------------------------------------------\u001b[0m",
      "\u001b[0;31mAttributeError\u001b[0m                            Traceback (most recent call last)",
      "\u001b[0;32m<ipython-input-2-3dd2f41da8e7>\u001b[0m in \u001b[0;36m<module>\u001b[0;34m()\u001b[0m\n\u001b[0;32m----> 1\u001b[0;31m \u001b[0mdataset\u001b[0m \u001b[0;34m=\u001b[0m \u001b[0mDOTA_devkit\u001b[0m\u001b[0;34m.\u001b[0m\u001b[0mDOTA\u001b[0m\u001b[0;34m.\u001b[0m\u001b[0mDOTA\u001b[0m\u001b[0;34m(\u001b[0m\u001b[0;34m'/media/raymond/MainDrive/Dataset/DOTA/train_test'\u001b[0m\u001b[0;34m,\u001b[0m\u001b[0mparseMode\u001b[0m\u001b[0;34m=\u001b[0m\u001b[0;34m'parse_dota_rec'\u001b[0m\u001b[0;34m)\u001b[0m\u001b[0;34m\u001b[0m\u001b[0m\n\u001b[0m",
      "\u001b[0;31mAttributeError\u001b[0m: module 'DOTA_devkit' has no attribute 'DOTA'"
     ]
    }
   ],
   "source": [
    "dataset = DOTA_devkit.DOTA.DOTA('/media/raymond/MainDrive/Dataset/DOTA/train_test',parseMode='parse_dota_rec')"
   ]
  },
  {
   "cell_type": "code",
   "execution_count": null,
   "metadata": {},
   "outputs": [],
   "source": []
  }
 ],
 "metadata": {
  "kernelspec": {
   "display_name": "Python 3",
   "language": "python",
   "name": "python3"
  },
  "language_info": {
   "codemirror_mode": {
    "name": "ipython",
    "version": 3
   },
   "file_extension": ".py",
   "mimetype": "text/x-python",
   "name": "python",
   "nbconvert_exporter": "python",
   "pygments_lexer": "ipython3",
   "version": "3.6.4"
  }
 },
 "nbformat": 4,
 "nbformat_minor": 2
}
