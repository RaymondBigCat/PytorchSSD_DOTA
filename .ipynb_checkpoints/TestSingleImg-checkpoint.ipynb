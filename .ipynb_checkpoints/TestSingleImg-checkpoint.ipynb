{
 "cells": [
  {
   "cell_type": "code",
   "execution_count": 1,
   "metadata": {},
   "outputs": [],
   "source": [
    "from __future__ import print_function\n",
    "import sys\n",
    "import os\n",
    "os.environ[\"CUDA_VISIBLE_DEVICES\"] = \"1\"\n",
    "import pickle\n",
    "import argparse\n",
    "import torch\n",
    "import torch.nn as nn\n",
    "import torch.backends.cudnn as cudnn\n",
    "import torchvision.transforms as transforms\n",
    "import numpy as np\n",
    "from torch.autograd import Variable\n",
    "from data import AnnotationTransform, COCODetection, VOCDetection, BaseTransform, VOC_300,VOC_512,COCO_300,COCO_512, COCO_mobile_300,DOTADetection, DOTAroot,DotaAnnTrans\n",
    "import cv2\n",
    "import torch.utils.data as data\n",
    "from layers.functions import Detect,PriorBox\n",
    "from utils.nms_wrapper import nms\n",
    "from utils.timer import Timer\n",
    "\n",
    "# 可视化依赖库\n",
    "import matplotlib.pyplot as plt\n",
    "from matplotlib.collections import PatchCollection\n",
    "from matplotlib.patches import Polygon, Circle\n",
    "import math"
   ]
  },
  {
   "cell_type": "code",
   "execution_count": 2,
   "metadata": {},
   "outputs": [],
   "source": [
    "# params\n",
    "trained_model = 'weights/RFB_vgg_subset_planes_500_gap200_300/2019-04-11 15:34/RFB_vgg_DOTA_epoches_300.pth'\n",
    "img_dim = 300\n",
    "DOTA_CLASSES = ('__background__', 'plane')\n",
    "num_images = 1\n",
    "num_classes = len(DOTA_CLASSES)\n",
    "img_path = '/home/raymond/project/PytorchSSD_DOTA/data/DOTA_devkit/examplesplit/images/P1088__1__2__4.png'\n",
    "#img_path = '/media/raymond/MainDrive/Dataset/DOTA/subset_planes_1000/images/P0188__1__0__0.png'\n",
    "rgb_means = (0, 0, 0) # RFB for voc\n",
    "cuda = True\n",
    "top_k = 200\n",
    "cfg = VOC_300\n",
    "detector = Detect(num_classes,0,cfg)\n",
    "priorbox = PriorBox(cfg) # 锚框\n",
    "priors = Variable(priorbox.forward(), volatile=True).cuda() # PyTorch版本不对，还要用Variable\n",
    "max_per_image=300\n",
    "thresh=0.005\n"
   ]
  },
  {
   "cell_type": "code",
   "execution_count": 3,
   "metadata": {},
   "outputs": [
    {
     "name": "stdout",
     "output_type": "stream",
     "text": [
      "Finished loading model!\n"
     ]
    }
   ],
   "source": [
    "# init net \n",
    "from models.RFB_Net_vgg import build_net\n",
    "net = build_net(img_dim, num_classes,test=True)\n",
    "\n",
    "# import trained_model\n",
    "state_dict = torch.load(trained_model)\n",
    "\n",
    "# create new OrderedDict that does not contain `module.`\n",
    "from collections import OrderedDict\n",
    "new_state_dict = OrderedDict()\n",
    "for k, v in state_dict.items():\n",
    "    head = k[:7]\n",
    "    if head == 'module.':\n",
    "        name = k[7:] # remove `module.`\n",
    "    else:\n",
    "        name = k\n",
    "    new_state_dict[name] = v\n",
    "net.load_state_dict(new_state_dict)\n",
    "\n",
    "# change mode to eval\n",
    "# pytorch会自动把BN和DropOut固定住，不会取平均，而是用训练好的值\n",
    "net.eval()\n",
    "print('Finished loading model!')\n",
    "# print(net)"
   ]
  },
  {
   "cell_type": "code",
   "execution_count": 4,
   "metadata": {},
   "outputs": [
    {
     "name": "stderr",
     "output_type": "stream",
     "text": [
      "/home/raymond/project/PytorchSSD_DOTA/data/data_augment.py:254: RuntimeWarning: divide by zero encountered in true_divide\n",
      "  img /= self.std\n"
     ]
    },
    {
     "name": "stdout",
     "output_type": "stream",
     "text": [
      "(Variable containing:\n",
      "(  0  ,.,.) = \n",
      " -7.6086e-01  8.1958e-02 -2.6626e+00 -2.2102e+00\n",
      " -5.5629e-01 -3.9716e-01  8.6984e-02 -3.5742e-01\n",
      " -1.2270e+00 -3.8922e-02 -4.1155e+00 -1.8699e+00\n",
      "                       ⋮                        \n",
      " -5.1122e-02 -4.2177e-02 -1.6594e-01 -2.1444e-01\n",
      " -1.8796e-02 -4.0805e-02 -1.7370e-01  5.2437e-02\n",
      "  5.9503e-03 -3.6703e-02 -1.5638e-02 -2.5051e-01\n",
      "[torch.cuda.FloatTensor of size 1x11620x4 (GPU 0)]\n",
      ", Variable containing:\n",
      " 1.0000  0.0000\n",
      " 1.0000  0.0000\n",
      " 0.9999  0.0001\n",
      "       ⋮        \n",
      " 0.3960  0.6040\n",
      " 0.4136  0.5864\n",
      " 0.4023  0.5977\n",
      "[torch.cuda.FloatTensor of size 11620x2 (GPU 0)]\n",
      ")\n"
     ]
    },
    {
     "name": "stderr",
     "output_type": "stream",
     "text": [
      "/home/raymond/project/PytorchSSD_DOTA/models/RFB_Net_vgg.py:215: UserWarning: Implicit dimension choice for softmax has been deprecated. Change the call to include dim=X as an argument.\n",
      "  self.softmax(conf.view(-1, self.num_classes)),  # conf preds\n"
     ]
    }
   ],
   "source": [
    "# 传入一张图进行测试\n",
    "img = cv2.imread(img_path,cv2.IMREAD_COLOR)\n",
    "scale = torch.Tensor([img.shape[1], img.shape[0],img.shape[1], img.shape[0]])\n",
    "x = Variable(BaseTransform(net.size, rgb_means, (2, 0, 1))(img).unsqueeze(0))\n",
    "if cuda:\n",
    "    x = x.cuda()\n",
    "    scale = scale.cuda()\n",
    "# 将图片传入网络进行计算\n",
    "out = net(x)\n",
    "print (out)\n",
    "# 传入detector\n",
    "boxes, scores = detector.forward(out,priors)\n",
    "boxes = boxes[0]\n",
    "scores = scores[0]\n",
    "boxes *= scale\n",
    "# 放入CPU，便于后续NMS\n",
    "boxes = boxes.cpu().numpy()\n",
    "scores = scores.cpu().numpy()"
   ]
  },
  {
   "cell_type": "code",
   "execution_count": null,
   "metadata": {},
   "outputs": [
    {
     "name": "stdout",
     "output_type": "stream",
     "text": [
      "[ 253.26765442  149.14797974  514.69421387  427.76998901    0.99741411]\n"
     ]
    }
   ],
   "source": [
    "all_boxes = [[[] for _ in range(num_images)]for _ in range(num_classes)]\n",
    "i=0\n",
    "for j in range(1, num_classes):\n",
    "    inds = np.where(scores[:, j] > thresh)[0]\n",
    "    if len(inds) == 0:\n",
    "        all_boxes[j][i] = np.empty([0, 5], dtype=np.float32)\n",
    "        continue\n",
    "    c_bboxes = boxes[inds]\n",
    "    c_scores = scores[inds, j]\n",
    "    c_dets = np.hstack((c_bboxes, c_scores[:, np.newaxis])).astype(np.float32, copy=False)\n",
    "    \n",
    "    keep = nms(c_dets, 0.45, force_cpu=True) # 非极大抑制\n",
    "    c_dets = c_dets[keep, :]\n",
    "    all_boxes[j][i] = c_dets\n",
    "if max_per_image > 0:\n",
    "    image_scores = np.hstack([all_boxes[j][i][:, -1] for j in range(1,num_classes)]) #取出当前图像上非极大抑制后留下的所有框的置信度信息\n",
    "    if len(image_scores) > max_per_image:\n",
    "        image_thresh = np.sort(image_scores)[-max_per_image] #挑选出置信度阈值\n",
    "        for j in range(1, num_classes):\n",
    "            keep = np.where(all_boxes[j][i][:, -1] >= image_thresh)[0] #挑选出置信度排名前max_per_image的预测框\n",
    "            all_boxes[j][i] = all_boxes[j][i][keep, :]\n",
    "# all_boxes 所有框\n",
    "# all_boxes[num_class][num_image][num_box]\n",
    "# box = [4个位置信息，1个置信度]\n",
    "print((all_boxes[1][0][0]))"
   ]
  },
  {
   "cell_type": "code",
   "execution_count": null,
   "metadata": {},
   "outputs": [],
   "source": [
    "# 可视化\n",
    "print('image size is:',img.shape)\n",
    "plt.imshow(img)\n",
    "plt.axis('off')\n",
    "ax = plt.gca()\n",
    "ax.set_autoscale_on(False)\n",
    "import pylab\n",
    "pylab.rcParams['figure.figsize'] = (20.0, 20.0) # 调整显示图像大小\n",
    "polygons = []\n",
    "color = []\n",
    "circles = []\n",
    "colors = [(0,0,0),(128,0,0),(0,128,0),(128,128,0),(0,0,128),(128,0,128),(0,128,128),(128,128,128),(64,0,0),(192,0,0),(64,128,0),(192,128,0),(64,0,128),(192,0,128),(64,128,128),(192,128,128),(0,64,0),(128,64,0),(0,192,0),(128,192,0),(0,64,128)]\n",
    "for k in range(1, num_classes):\n",
    "    dets = all_boxes[k][i] # 一个种类的所有水平框\n",
    "    print(dets.shape)\n",
    "    if dets == []:\n",
    "        continue\n",
    "    print('the number of boxes: ', dets.shape[0], 'label:', DOTA_CLASSES[k])\n",
    "    for s in range(dets.shape[0]): # 遍历所有框\n",
    "        if dets[s][-1] >= 0.998:\n",
    "            print (dets[s])\n",
    "            c = (np.random.random((1, 3)) * 0.6 + 0.4).tolist()[0] # 随机选颜色\n",
    "            color.append(c)\n",
    "            \"\"\"\n",
    "            xc,yc,w,h = dets[s][:4]\n",
    "            xmin = xc - w/2\n",
    "            xmax = xc + w/2\n",
    "            ymin = yc - h/2\n",
    "            ymax = yc + h/2\n",
    "            \"\"\"\n",
    "            xmin,ymin,xmax,ymax = dets[s][:4]\n",
    "            poly = [(xmin,ymax),(xmin,ymin),(xmax,ymin),(xmax,ymax)]\n",
    "            #polygons.append(Polygon(poly)) #append应该是允许多次画框\n",
    "            # 标签\n",
    "            text = DOTA_CLASSES[k]+ ':' + '{:.3f}'.format(dets[s, -1])\n",
    "            cv2.rectangle(img, (int(dets[s, 0] + 1),int(dets[s, 1] + 1)), (int(dets[s, 2] + 1),int(dets[s, 3] + 1)), colors[k], 2)\n",
    "            cv2.putText(img, text, (int(dets[s, 0] + 1),int(dets[s, 1] + 1)), cv2.FONT_HERSHEY_SIMPLEX, 0.5, colors[k], 1)\n",
    "            #plt.annotate(text, xy=(int(xmin),int(ymax)),xytext=(int(xmin),int(ymax)), textcoords='offset points')\n",
    "#p = PatchCollection(polygons, facecolors=color, linewidths=0, alpha=0.4)\n",
    "#ax.add_collection(p)\n",
    "#p = PatchCollection(polygons, facecolors='none', edgecolors=color, linewidths=2)\n",
    "#ax.add_collection(p)"
   ]
  },
  {
   "cell_type": "code",
   "execution_count": null,
   "metadata": {},
   "outputs": [],
   "source": []
  },
  {
   "cell_type": "code",
   "execution_count": null,
   "metadata": {},
   "outputs": [],
   "source": []
  },
  {
   "cell_type": "code",
   "execution_count": 136,
   "metadata": {},
   "outputs": [
    {
     "data": {
      "text/plain": [
       "['__background__', 'plane']"
      ]
     },
     "execution_count": 136,
     "metadata": {},
     "output_type": "execute_result"
    }
   ],
   "source": [
    "# TEST \n",
    "# Tuple to List\n",
    "a = ('__background__', 'plane')\n",
    "b = list(a)\n",
    "b"
   ]
  },
  {
   "cell_type": "code",
   "execution_count": 137,
   "metadata": {},
   "outputs": [
    {
     "data": {
      "text/plain": [
       "'2019-04-02 15:22'"
      ]
     },
     "execution_count": 137,
     "metadata": {},
     "output_type": "execute_result"
    }
   ],
   "source": [
    "# TEST\n",
    "# 获取Time\n",
    "import time\n",
    "time.strftime('%Y-%m-%d %H:%M',time.localtime(time.time()))"
   ]
  },
  {
   "cell_type": "code",
   "execution_count": 18,
   "metadata": {},
   "outputs": [
    {
     "name": "stdout",
     "output_type": "stream",
     "text": [
      "['', 'We', '', 'are', 'ha', 'ppy.', '', '']\n"
     ]
    },
    {
     "data": {
      "text/plain": [
       "'%20We%20%20are%20ha%20ppy.%20%20'"
      ]
     },
     "execution_count": 18,
     "metadata": {},
     "output_type": "execute_result"
    }
   ],
   "source": [
    "s = ' We  are ha ppy.  '\n",
    "sl = list(s)\n",
    "a = s.split(\" \")\n",
    "print(a)\n",
    "res = ''\n",
    "for i in range(len(a)-1):\n",
    "    res += a[i]\n",
    "    res += \"%20\"\n",
    "res += a[-1]\n",
    "res"
   ]
  },
  {
   "cell_type": "code",
   "execution_count": null,
   "metadata": {},
   "outputs": [],
   "source": []
  }
 ],
 "metadata": {
  "kernelspec": {
   "display_name": "Python 3",
   "language": "python",
   "name": "python3"
  },
  "language_info": {
   "codemirror_mode": {
    "name": "ipython",
    "version": 3
   },
   "file_extension": ".py",
   "mimetype": "text/x-python",
   "name": "python",
   "nbconvert_exporter": "python",
   "pygments_lexer": "ipython3",
   "version": "3.6.4"
  }
 },
 "nbformat": 4,
 "nbformat_minor": 2
}
