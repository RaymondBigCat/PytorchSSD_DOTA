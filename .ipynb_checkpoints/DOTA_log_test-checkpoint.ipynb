{
 "cells": [
  {
   "cell_type": "code",
   "execution_count": null,
   "metadata": {},
   "outputs": [],
   "source": [
    "# DOTA的path\n",
    "DOTA_path = \"/media/b622/MainDrive/Dataset/DOTA\""
   ]
  },
  {
   "cell_type": "markdown",
   "metadata": {},
   "source": [
    "# DOTA数据集文件夹组织\n",
    "- DOTA\n",
    "    - val\n",
    "        - labelTxt\n",
    "        - images\n",
    "    \n",
    "    - train\n",
    "        - labelTxt\n",
    "        - images\n",
    "    \n",
    "    - test\n",
    "        - images\n",
    "        \n",
    "每个文件夹下都是压缩包，需要进行解压。\n",
    "        "
   ]
  },
  {
   "cell_type": "code",
   "execution_count": null,
   "metadata": {},
   "outputs": [],
   "source": [
    "\"\"\" 全部15类别\n",
    "wordname_15 = ['plane', 'baseball-diamond', 'bridge', 'ground-track-field', 'small-vehicle', 'large-vehicle', 'ship', 'tennis-court',\n",
    "               'basketball-court', 'storage-tank',  'soccer-ball-field', 'roundabout', 'harbor', 'swimming-pool', 'helicopter']\n",
    "\"\"\"               "
   ]
  },
  {
   "cell_type": "code",
   "execution_count": null,
   "metadata": {},
   "outputs": [],
   "source": [
    "%matplotlib inline\n",
    "import numpy as np\n",
    "import matplotlib.pyplot as plt\n",
    "import os\n",
    "import pylab\n",
    "import sys\n",
    "sys.path.append('/home/raymond/project/PytorchSSD_DOTA/data/DOTA_devkit') # 保证DOTA_devkit可用的关键\n",
    "from DOTA_devkit import dota_utils as util\n",
    "from DOTA_devkit import DOTA\n",
    "import torchvision.transforms as transforms\n",
    "from PIL import Image\n",
    "import cv2\n",
    "# 调用时要DOTA.DOTA\n",
    "# 路径最好使用绝对路径\n",
    "# 测试路径：'/home/raymond/project/DOTA_PyTorch/DOTA_devkit/example'\n",
    "# train路径：'/media/b622/MainDrive/Dataset/DOTA/train'\n",
    "dataset = DOTA.DOTA('/media/raymond/MainDrive/Dataset/DOTA/train_test',parseMode='parse_dota_rec')\n",
    "#dataset = DOTA.DOTA('/media/raymond/MainDrive/Dataset/DOTA/train',parseMode = 'parse_dota_rec')\n",
    "# 路径可能是b622或者raymond，取决于开机时从*哪个账户*登入的MainDrive"
   ]
  },
  {
   "cell_type": "code",
   "execution_count": null,
   "metadata": {},
   "outputs": [],
   "source": [
    "# 加载包含指定类别目标的图片ID\n",
    "imgids = dataset.getImgIds(catNms=['plane'])\n",
    "print(imgids)\n",
    "\n",
    "'''\n",
    "for i in range(len(imgids)):\n",
    "    img = dataset.loadImgs(imgids[i])[0]\n",
    "    img = Image.fromarray(cv2.cvtColor(img,cv2.COLOR_BGR2RGB))\n",
    "    img = img.convert(\"RGB\")\n",
    "    img = transforms.Resize((300,300))(img)\n",
    "    img1 = transforms.ToTensor()(img)\n",
    "    print (img1.size())\n",
    "'''\n",
    "\n",
    "imgid = imgids[0]\n",
    "img = dataset.loadImgs(imgid)[0]\n",
    "# 调试\n",
    "img1 = transforms.ToTensor()(img)\n",
    "print((img1.shape))"
   ]
  },
  {
   "cell_type": "code",
   "execution_count": null,
   "metadata": {},
   "outputs": [],
   "source": [
    "pylab.rcParams['figure.figsize'] = (30.0, 30.0) # 调整显示图像大小\n",
    "plt.axis('off')\n",
    "plt.imshow(img)\n",
    "plt.show()"
   ]
  },
  {
   "cell_type": "code",
   "execution_count": null,
   "metadata": {},
   "outputs": [],
   "source": [
    "anns = dataset.loadAnns(imgId=imgid)\n",
    "print((anns))\n",
    "dataset.showAnns(anns,imgid,2)"
   ]
  },
  {
   "cell_type": "code",
   "execution_count": null,
   "metadata": {},
   "outputs": [],
   "source": [
    "# split image\n",
    "# cut image (original)\n",
    "from DOTA_devkit.ImgSplit import splitbase\n",
    "split = splitbase(r'/media/raymond/MainDrive/Dataset/DOTA/train_test',r'/media/raymond/MainDrive/Dataset/DOTA/splittest',subsize = 600, choosebestpoint=True)\n",
    "split.splitdata(1)"
   ]
  },
  {
   "cell_type": "code",
   "execution_count": null,
   "metadata": {},
   "outputs": [],
   "source": [
    "basepath = '/media/b622/MainDrive/Dataset/DOTA/train'\n",
    "labelpath = os.path.join(basepath, 'labelTxt')\n",
    "imgpaths = util.GetFileFromThisRootDir(labelpath)\n",
    "imgpaths\n",
    "a = os.path.basename(os.path.splitext(imgpaths[0])[0])\n",
    "print(a)\n",
    "imgpaths[0].split('/')[-1].split('.')[-1]"
   ]
  },
  {
   "cell_type": "code",
   "execution_count": null,
   "metadata": {},
   "outputs": [],
   "source": [
    "import math\n",
    "import matplotlib.pyplot as plt\n",
    "from matplotlib.collections import PatchCollection\n",
    "from matplotlib.patches import Polygon, Circle\n",
    "\n",
    "a = [1906, 1446, 1903, 1454, 1876, 1444, 1879, 1436]\n",
    "print(a)\n",
    "bbox = np.array(a,dtype=np.float32)\n",
    "bbox = np.reshape(bbox,newshape=(2,4),order='F')\n",
    "angle = math.atan2(-(bbox[0,1]-bbox[0,0]),bbox[1,1]-bbox[1,0])\n",
    "\n",
    "print(bbox[0,1])\n",
    "print(angle)"
   ]
  },
  {
   "cell_type": "code",
   "execution_count": null,
   "metadata": {},
   "outputs": [],
   "source": [
    "%matplotlib inline\n",
    "import matplotlib.pyplot as plt\n",
    "import numpy as np\n",
    "import math\n",
    "# 输入（cx,cy,w,h）画图\n",
    "def rec2xy(rec):\n",
    "    cx,cy,w,h = rec[0],rec[1],rec[2],rec[3]\n",
    "    x = [cx-w/2,cx-w/2,cx+w/2,cx+w/2]\n",
    "    y = [cy-h/2,cy+h/2,cy-h/2,cy+h/2]\n",
    "    return x,y\n",
    "\n",
    "#输入[cx, cy, w, h, theta]\n",
    "#输出[[x1, x2, x3, x4],[y1, y2, y3, y4]]\n",
    "def Rotationrec2xy(rec):\n",
    "    cx,cy,w,h,theta = rec[0],rec[1],rec[2],rec[3],rec[4]\n",
    "    RMatrix = np.array([[math.cos(theta), -math.sin(theta)], [math.sin(theta), math.cos(theta)]], dtype=np.float32)\n",
    "    x_temp, y_temp = rec2xy([rec[0],rec[1],rec[2],rec[3]])\n",
    "    box = np.array([x_temp,y_temp], dtype=np.float32)\n",
    "    new_box = np.matmul(RMatrix,box-np.array([[cx],[cy]])) + np.array([[cx],[cy]])\n",
    "    print(new_box)\n",
    "    new_box = np.transpose(new_box)\n",
    "    print(new_box)\n",
    "    new_box = np.around(new_box)\n",
    "    print(new_box)\n",
    "    new_box[[2,3],:] = new_box[[3,2],:]\n",
    "    print(new_box)\n",
    "    return new_box.tolist()\n",
    "\n",
    "x3,y3 = rec2xy([7,6,4,8])\n",
    "a = Rotationrec2xy([7,6,4,8,math.pi/3])\n",
    "\n",
    "print(a)\n",
    "x1 = [1, 2, 3, 4]\n",
    "y1 = [1, 2, 3, 4]     #第一组数据\n",
    "\n",
    "x2 = [1, 2, 3, 4]\n",
    "y2 = [2, 3, 4, 5]    #第二组数据\n",
    "x4 = a[0]\n",
    "y4 = a[1]\n",
    "plt.scatter(a, marker = 'x',color = 'red', s = 40 ,label = 'First')\n",
    "#                   记号形状       颜色           点的大小    设置标签\n",
    "plt.scatter(x4,y4,marker='o',color = 'blue',s=40)\n",
    "plt.xlim((0, 20))\n",
    "plt.ylim((0, 20))\n",
    "plt.show()"
   ]
  },
  {
   "cell_type": "code",
   "execution_count": null,
   "metadata": {},
   "outputs": [],
   "source": [
    "a = [23,4,5,5,6,7,7,8,8,9]\n",
    "a.pop()\n",
    "a"
   ]
  },
  {
   "cell_type": "code",
   "execution_count": null,
   "metadata": {},
   "outputs": [],
   "source": [
    "math.cos(math.pi/3)"
   ]
  },
  {
   "cell_type": "code",
   "execution_count": null,
   "metadata": {},
   "outputs": [],
   "source": [
    "import numpy as np\n",
    "a = np.array([[1,2,3,4],[5,6,7,8]])\n",
    "b = np.transpose(a)\n",
    "b.tolist()"
   ]
  },
  {
   "cell_type": "code",
   "execution_count": null,
   "metadata": {},
   "outputs": [],
   "source": [
    "a = [1,2,3,4,1,5,2,1]\n",
    "for i in range(len(a)):\n",
    "    print(a[i])"
   ]
  },
  {
   "cell_type": "code",
   "execution_count": null,
   "metadata": {},
   "outputs": [],
   "source": [
    "a = 'COCO_train2014_000000000009.txt'\n",
    "print(a)\n",
    "print(a.rstrip())"
   ]
  },
  {
   "cell_type": "code",
   "execution_count": null,
   "metadata": {},
   "outputs": [],
   "source": [
    "import numpy as np\n",
    "label_path = '/home/raymond/project/DOTA_PyTorch/COCO_train2014_000000000009.txt'\n",
    "DOTA_path = '/media/raymond/MainDrive/Dataset/DOTA/train_test/labelTxt/P0000.txt'\n",
    "label = np.loadtxt(DOTA_path).reshape(-1,5)\n",
    "print ( label)"
   ]
  },
  {
   "cell_type": "code",
   "execution_count": null,
   "metadata": {},
   "outputs": [],
   "source": [
    "import torch\n",
    "import cv2\n",
    "import numpy as np\n",
    "import os\n",
    "import torch.utils.data as data\n",
    "import torchvision.transforms as transforms\n",
    "from DOTA_devkit import dota_utils as util\n",
    "from DOTA_devkit import DOTA\n",
    "\n",
    "class DOTADetection(data.dataset):\n",
    "    def __init__(self, rootPath, catNms = [], parseMode = ''):\n",
    "        self.rootPath = rootPath\n",
    "        self.parseMode = parseMode\n",
    "        self.imgPath = os.path.join(self.rootPath,"
   ]
  },
  {
   "cell_type": "code",
   "execution_count": null,
   "metadata": {},
   "outputs": [],
   "source": [
    "import torch\n",
    "import cv2\n",
    "import numpy as np\n",
    "import os\n",
    "import sys\n",
    "import torch.utils.data as data\n",
    "sys.path.append('/home/raymond/project/DOTA_PyTorch/DOTA_devkit') # 保证DOTA_devkit可用的关键\n",
    "import torchvision.transforms as transforms\n",
    "from DOTA_devkit import dota_utils as util\n",
    "from DOTA_devkit import DOTA\n",
    "from PIL import Image\n",
    "\n",
    "class DOTADetection(data.Dataset):\n",
    "    def __init__(self, rootPath, parseMode = 'parse_dota_rec',catNms = []):\n",
    "        self.rootPath = rootPath\n",
    "        self.parseMode = parseMode\n",
    "        self.catNms = catNms\n",
    "        self.dataset = DOTA.DOTA(self.rootPath, parseMode = self.parseMode)\n",
    "        self.imgIDs = self.dataset.getImgIds(self.catNms)\n",
    "        self.classes = ['plane', 'baseball-diamond', 'bridge', 'ground-track-field', 'small-vehicle', 'large-vehicle', 'ship', 'tennis-court',\n",
    "               'basketball-court', 'storage-tank',  'soccer-ball-field', 'roundabout', 'harbor', 'swimming-pool', 'helicopter']\n",
    "        self.category = {}\n",
    "        for snum, cat in enumerate(self.classes):\n",
    "            self.category[cat] = snum\n",
    "        if self.parseMode == 'parse_dota_rec':\n",
    "            self.parsekw = 'bndbox'\n",
    "        else:\n",
    "            self.parsekw = 'poly'\n",
    "            \n",
    "        \n",
    "    def __getitem__(self, index):\n",
    "        imgid = self.imgIDs[index]\n",
    "        img = self.dataset.loadImgs(imgid)[0]\n",
    "        img = Image.fromarray(cv2.cvtColor(img,cv2.COLOR_BGR2RGB))\n",
    "        img = img.convert(\"RGB\") # cv转PIL再转RGB，因为原图PNG带4个通道。\n",
    "        img = transforms.Resize((300,300))(img)\n",
    "        anns = self.dataset.loadAnns(imgId = imgid)\n",
    "        # 将anns转化为label\n",
    "        # anns是字典，将里面的坐标信息和类别信息提取出来，其他的不要\n",
    "        labels = []\n",
    "        \"\"\"\n",
    "        当parseMode==parse_dota_rec时，解析‘bndbox’。\n",
    "        鉴于parse时提取的信息不同，加入一个parsekw的属性。（不一定用上）\n",
    "        \"\"\"\n",
    "        '''\n",
    "        if self.parseMode == 'parse_dota_rec':\n",
    "            for num in range(len(anns)):\n",
    "                labels.append(self.category[anns[num]['name']])\n",
    "                labels.extend(list(anns[num]['bndbox']))\n",
    "        '''\n",
    "        if self.parseMode == 'parse_dota_rec':\n",
    "            for num,ann in enumerate(anns):\n",
    "                labels.append([])\n",
    "                labels[num].extend(list(ann['bndbox']))\n",
    "                labels[num].append(self.category[ann['name']])\n",
    "        # labels = np.array(labels,dtype=np.float).reshape(-1,5)\n",
    "        # 方法2：将ann直接作为labels；在train中解析labels\n",
    "        # labels = anns\n",
    "        # 解析Label\n",
    "        # 解析label部分可以放在train文件中（比如封装tensor这部分）\n",
    "        # 考虑：label放在list,np,tensor哪里？\n",
    "        \"\"\"\n",
    "        for num in range(len(anns)):\n",
    "            temp = self.category[anns[num]['name']].append(anns[num]['poly'])\n",
    "            labels.append(temp)\n",
    "        \"\"\"\n",
    "        img = transforms.ToTensor()(img) # img转tensor\n",
    "        # labels = np.array(labels,dtype=np.float).reshape(-1,5)\n",
    "        # labels = torch.from_numpy(labels)\n",
    "        # labels = torch.Tensor(labels)\n",
    "        sample = {'image' : img, 'label': self.UniteLabels(labels)}\n",
    "        \n",
    "        return sample\n",
    "        \n",
    "    def __len__(self):\n",
    "        return len(self.imgIDs)\n",
    "    \n",
    "    # 将Labels统一为（max_objects,5）的尺寸，以封装进dataloader\n",
    "    # 多出的labels被截断\n",
    "    def UniteLabels(self,labels,max_objects=120):\n",
    "        unilabels = np.zeros((max_objects,5),np.float32)\n",
    "        unilabels[range(len(labels))[:max_objects]] = labels[:max_objects]\n",
    "        return torch.from_numpy(unilabels)\n",
    "        \n",
    "    \n",
    "    \n",
    "# use for testing the dataloader and dataset\n",
    "if __name__ == \"__main__\":\n",
    "    # pass\n",
    "    dotaset = DOTADetection('/media/raymond/MainDrive/Dataset/DOTA/train_test')\n",
    "    dota_dataloader = data.DataLoader(dotaset, batch_size=4,shuffle=False,num_workers=2,pin_memory=True)\n",
    "    \n",
    "    #i, sample in enumerate(dota_dataloader):\n",
    "    dataiter = data.dataloader.DataLoaderIter(dota_dataloader)\n",
    "    print((next(dataiter)['label']))"
   ]
  },
  {
   "cell_type": "code",
   "execution_count": 1,
   "metadata": {},
   "outputs": [
    {
     "ename": "ModuleNotFoundError",
     "evalue": "No module named 'DOTA_devkit'",
     "output_type": "error",
     "traceback": [
      "\u001b[0;31m---------------------------------------------------------------------------\u001b[0m",
      "\u001b[0;31mModuleNotFoundError\u001b[0m                       Traceback (most recent call last)",
      "\u001b[0;32m<ipython-input-1-ad9b01c3fc33>\u001b[0m in \u001b[0;36m<module>\u001b[0;34m()\u001b[0m\n\u001b[0;32m----> 1\u001b[0;31m \u001b[0;32mfrom\u001b[0m \u001b[0mdata\u001b[0m \u001b[0;32mimport\u001b[0m \u001b[0mVOCroot\u001b[0m\u001b[0;34m\u001b[0m\u001b[0m\n\u001b[0m",
      "\u001b[0;32m~/project/PytorchSSD_DOTA/data/__init__.py\u001b[0m in \u001b[0;36m<module>\u001b[0;34m()\u001b[0m\n\u001b[1;32m      9\u001b[0m \u001b[0;31m#from DOTA_devkit import DOTA\u001b[0m\u001b[0;34m\u001b[0m\u001b[0;34m\u001b[0m\u001b[0m\n\u001b[1;32m     10\u001b[0m \u001b[0;31m#sys.path.append('/home/raymond/project/PytorchSSD_DOTA/data/DOTA_devkit')\u001b[0m\u001b[0;34m\u001b[0m\u001b[0;34m\u001b[0m\u001b[0m\n\u001b[0;32m---> 11\u001b[0;31m \u001b[0;32mfrom\u001b[0m \u001b[0;34m.\u001b[0m\u001b[0mdota\u001b[0m \u001b[0;32mimport\u001b[0m \u001b[0mDOTADetection\u001b[0m\u001b[0;34m,\u001b[0m \u001b[0mDotaAnnTrans\u001b[0m\u001b[0;34m\u001b[0m\u001b[0m\n\u001b[0m",
      "\u001b[0;32m~/project/PytorchSSD_DOTA/data/dota.py\u001b[0m in \u001b[0;36m<module>\u001b[0;34m()\u001b[0m\n\u001b[1;32m     12\u001b[0m \u001b[0;32mfrom\u001b[0m \u001b[0mPIL\u001b[0m \u001b[0;32mimport\u001b[0m \u001b[0mImage\u001b[0m\u001b[0;34m\u001b[0m\u001b[0m\n\u001b[1;32m     13\u001b[0m \u001b[0;31m#from DOTA_devkit import dota_utils as util\u001b[0m\u001b[0;34m\u001b[0m\u001b[0;34m\u001b[0m\u001b[0m\n\u001b[0;32m---> 14\u001b[0;31m \u001b[0;32mfrom\u001b[0m \u001b[0mDOTA_devkit\u001b[0m \u001b[0;32mimport\u001b[0m \u001b[0mDOTA\u001b[0m\u001b[0;34m\u001b[0m\u001b[0m\n\u001b[0m\u001b[1;32m     15\u001b[0m \u001b[0;31m# from .voc_eval import voc_eval # VOCdevkit\u001b[0m\u001b[0;34m\u001b[0m\u001b[0;34m\u001b[0m\u001b[0m\n\u001b[1;32m     16\u001b[0m \u001b[0;34m\u001b[0m\u001b[0m\n",
      "\u001b[0;31mModuleNotFoundError\u001b[0m: No module named 'DOTA_devkit'"
     ]
    }
   ],
   "source": [
    "from data import VOCroot\n"
   ]
  },
  {
   "cell_type": "code",
   "execution_count": 2,
   "metadata": {},
   "outputs": [],
   "source": [
    "import sys"
   ]
  },
  {
   "cell_type": "code",
   "execution_count": null,
   "metadata": {},
   "outputs": [],
   "source": []
  }
 ],
 "metadata": {
  "kernelspec": {
   "display_name": "Python 3",
   "language": "python",
   "name": "python3"
  },
  "language_info": {
   "codemirror_mode": {
    "name": "ipython",
    "version": 3
   },
   "file_extension": ".py",
   "mimetype": "text/x-python",
   "name": "python",
   "nbconvert_exporter": "python",
   "pygments_lexer": "ipython3",
   "version": "3.6.4"
  }
 },
 "nbformat": 4,
 "nbformat_minor": 2
}
