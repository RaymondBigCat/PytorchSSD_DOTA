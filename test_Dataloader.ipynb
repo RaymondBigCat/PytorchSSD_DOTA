{
 "cells": [
  {
   "cell_type": "code",
   "execution_count": 19,
   "metadata": {},
   "outputs": [
    {
     "name": "stdout",
     "output_type": "stream",
     "text": [
      "loading classes :\n",
      "plane\n",
      " DOTA dataset has been successfully loaded \n",
      "加载图片ID完成：共有 1 张图片符合筛选条件\n",
      "epoch_size = 0\n"
     ]
    }
   ],
   "source": [
    "\"\"\"\n",
    "测试dataloader是否正确加载数据集\n",
    "\"\"\"\n",
    "# 加载依赖项\n",
    "from __future__ import print_function\n",
    "\n",
    "import argparse\n",
    "import pickle\n",
    "import time\n",
    "\n",
    "import numpy as np\n",
    "import os\n",
    "os.environ[\"CUDA_VISIBLE_DEVICES\"] = \"0\" #设置GPU1可见\n",
    "import torch\n",
    "import torch.backends.cudnn as cudnn\n",
    "import torch.nn.init as init\n",
    "import torch.optim as optim\n",
    "import torch.utils.data as data\n",
    "from torch.autograd import Variable\n",
    "import sys\n",
    "from data import VOCroot, COCOroot, VOC_300, VOC_512, COCO_300, COCO_512, COCO_mobile_300, AnnotationTransform, \\\n",
    "    COCODetection, VOCDetection, detection_collate, BaseTransform, preproc, DOTADetection, DOTAroot,DotaAnnTrans\n",
    "from layers.functions import Detect, PriorBox\n",
    "from layers.modules import MultiBoxLoss\n",
    "from utils.nms_wrapper import nms\n",
    "from utils.timer import Timer\n",
    "\n",
    "# 生成Dataset实例\n",
    "rgb_std = (1, 1, 1)\n",
    "img_dim = 300\n",
    "rgb_means = (104, 117, 123)\n",
    "p = 0.6\n",
    "batch_size = 8\n",
    "train_dataset = DOTADetection(DOTAroot, image_sets='train_test',\n",
    "                              preproc=preproc(img_dim, rgb_means, rgb_std, p), \n",
    "                              target_transform=DotaAnnTrans())\n",
    "# preproc(img_dim, rgb_means, rgb_std, p)\n",
    "epoch_size = len(train_dataset)//batch_size\n",
    "print ('epoch_size = %d'%epoch_size)"
   ]
  },
  {
   "cell_type": "code",
   "execution_count": 23,
   "metadata": {},
   "outputs": [
    {
     "name": "stdout",
     "output_type": "stream",
     "text": [
      "\n",
      " 219.8327  220.8872  233.1939  231.7878\n",
      " 211.5650  203.0316  224.7047  214.1997\n",
      " 201.9685  191.4623  215.3297  203.9679\n",
      " 162.5492  207.8466  172.2195  217.4766\n",
      " 172.2933  241.8190  183.6614  252.1177\n",
      " 109.1043  161.5693  122.9085  172.5368\n",
      "  91.3878   49.3535  101.6486   60.3879\n",
      " 127.6329   17.3206  140.9941   28.3549\n",
      " 223.5974  230.2497  237.0325  241.1502\n",
      "[torch.FloatTensor of size 9x4]\n",
      "\n"
     ]
    }
   ],
   "source": [
    "max_iter = 300 * 7469\n",
    "test_iterator = iter(data.DataLoader(train_dataset,\n",
    "                                    batch_size,\n",
    "                                    shuffle = False,\n",
    "                                    num_workers = 4,\n",
    "                                    collate_fn=detection_collate))\n",
    "images, targets = next(test_iterator)\n",
    "targets_size = []\n",
    "for iteration in range(epoch_size):\n",
    "    img_tmp,target_tmp = next(test_iterator)\n",
    "    print(iteration)\n",
    "newt = targets[0][:,:4]*300\n",
    "print((newt))"
   ]
  },
  {
   "cell_type": "code",
   "execution_count": 13,
   "metadata": {
    "scrolled": true
   },
   "outputs": [
    {
     "name": "stdout",
     "output_type": "stream",
     "text": [
      "> \u001b[0;32m<ipython-input-12-3601390e5aa1>\u001b[0m(11)\u001b[0;36m<module>\u001b[0;34m()\u001b[0m\n",
      "\u001b[0;32m      7 \u001b[0;31m\u001b[0;31m# images, targets = next(test_iterator)\u001b[0m\u001b[0;34m\u001b[0m\u001b[0;34m\u001b[0m\u001b[0m\n",
      "\u001b[0m\u001b[0;32m      8 \u001b[0;31m\u001b[0mtargets_size\u001b[0m \u001b[0;34m=\u001b[0m \u001b[0;34m[\u001b[0m\u001b[0;34m]\u001b[0m\u001b[0;34m\u001b[0m\u001b[0m\n",
      "\u001b[0m\u001b[0;32m      9 \u001b[0;31m\u001b[0;32mfor\u001b[0m \u001b[0miteration\u001b[0m \u001b[0;32min\u001b[0m \u001b[0mrange\u001b[0m\u001b[0;34m(\u001b[0m\u001b[0mepoch_size\u001b[0m\u001b[0;34m)\u001b[0m\u001b[0;34m:\u001b[0m\u001b[0;34m\u001b[0m\u001b[0m\n",
      "\u001b[0m\u001b[0;32m     10 \u001b[0;31m    \u001b[0mimg_tmp\u001b[0m\u001b[0;34m,\u001b[0m\u001b[0mtarget_tmp\u001b[0m \u001b[0;34m=\u001b[0m \u001b[0mnext\u001b[0m\u001b[0;34m(\u001b[0m\u001b[0mtest_iterator\u001b[0m\u001b[0;34m)\u001b[0m\u001b[0;34m\u001b[0m\u001b[0m\n",
      "\u001b[0m\u001b[0;32m---> 11 \u001b[0;31m    \u001b[0mtargets_size\u001b[0m\u001b[0;34m.\u001b[0m\u001b[0mappend\u001b[0m\u001b[0;34m(\u001b[0m\u001b[0mtarget_tmp\u001b[0m\u001b[0;34m.\u001b[0m\u001b[0mshape\u001b[0m\u001b[0;34m)\u001b[0m\u001b[0;34m\u001b[0m\u001b[0m\n",
      "\u001b[0m\n",
      "ipdb> u\n",
      "*** Oldest frame\n",
      "ipdb> u\n",
      "*** Oldest frame\n",
      "ipdb> d\n",
      "*** Newest frame\n",
      "ipdb> q\n"
     ]
    }
   ],
   "source": [
    "%debug"
   ]
  },
  {
   "cell_type": "code",
   "execution_count": 10,
   "metadata": {},
   "outputs": [
    {
     "ename": "AttributeError",
     "evalue": "'list' object has no attribute 'size'",
     "output_type": "error",
     "traceback": [
      "\u001b[0;31m---------------------------------------------------------------------------\u001b[0m",
      "\u001b[0;31mAttributeError\u001b[0m                            Traceback (most recent call last)",
      "\u001b[0;32m<ipython-input-10-55e2438f9d53>\u001b[0m in \u001b[0;36m<module>\u001b[0;34m()\u001b[0m\n\u001b[1;32m      1\u001b[0m \u001b[0ma\u001b[0m \u001b[0;34m=\u001b[0m \u001b[0;34m[\u001b[0m\u001b[0;36m1\u001b[0m\u001b[0;34m,\u001b[0m\u001b[0;36m2\u001b[0m\u001b[0;34m,\u001b[0m\u001b[0;36m3\u001b[0m\u001b[0;34m,\u001b[0m\u001b[0;36m4\u001b[0m\u001b[0;34m]\u001b[0m\u001b[0;34m\u001b[0m\u001b[0m\n\u001b[0;32m----> 2\u001b[0;31m \u001b[0ma\u001b[0m\u001b[0;34m.\u001b[0m\u001b[0msize\u001b[0m\u001b[0;34m\u001b[0m\u001b[0m\n\u001b[0m",
      "\u001b[0;31mAttributeError\u001b[0m: 'list' object has no attribute 'size'"
     ]
    }
   ],
   "source": [
    "a = [1,2,3,4]\n",
    "a.size"
   ]
  },
  {
   "cell_type": "code",
   "execution_count": 30,
   "metadata": {},
   "outputs": [
    {
     "data": {
      "text/plain": [
       "array([[1, 2, 3, 4],\n",
       "       [6, 7, 8, 9]])"
      ]
     },
     "execution_count": 30,
     "metadata": {},
     "output_type": "execute_result"
    }
   ],
   "source": [
    "a = np.array([1,2,3,4])\n",
    "b = np.array([6,7,8,9])\n",
    "a = np.vstack((a,b))\n",
    "a"
   ]
  },
  {
   "cell_type": "code",
   "execution_count": 33,
   "metadata": {},
   "outputs": [
    {
     "ename": "AttributeError",
     "evalue": "'DOTADetection' object has no attribute 'getImgIds'",
     "output_type": "error",
     "traceback": [
      "\u001b[0;31m---------------------------------------------------------------------------\u001b[0m",
      "\u001b[0;31mAttributeError\u001b[0m                            Traceback (most recent call last)",
      "\u001b[0;32m<ipython-input-33-f4905e956b24>\u001b[0m in \u001b[0;36m<module>\u001b[0;34m()\u001b[0m\n\u001b[0;32m----> 1\u001b[0;31m \u001b[0mimgids\u001b[0m \u001b[0;34m=\u001b[0m \u001b[0mtrain_dataset\u001b[0m\u001b[0;34m.\u001b[0m\u001b[0mgetImgIds\u001b[0m\u001b[0;34m(\u001b[0m\u001b[0mcatNms\u001b[0m\u001b[0;34m=\u001b[0m\u001b[0;34m[\u001b[0m\u001b[0;34m'plane'\u001b[0m\u001b[0;34m]\u001b[0m\u001b[0;34m)\u001b[0m\u001b[0;34m\u001b[0m\u001b[0m\n\u001b[0m\u001b[1;32m      2\u001b[0m \u001b[0mprint\u001b[0m\u001b[0;34m(\u001b[0m\u001b[0mimgids\u001b[0m\u001b[0;34m)\u001b[0m\u001b[0;34m\u001b[0m\u001b[0m\n\u001b[1;32m      3\u001b[0m \u001b[0mimgid\u001b[0m \u001b[0;34m=\u001b[0m \u001b[0mimgids\u001b[0m\u001b[0;34m[\u001b[0m\u001b[0;36m0\u001b[0m\u001b[0;34m]\u001b[0m\u001b[0;34m\u001b[0m\u001b[0m\n\u001b[1;32m      4\u001b[0m \u001b[0mimg\u001b[0m \u001b[0;34m=\u001b[0m \u001b[0mtrain_dataset\u001b[0m\u001b[0;34m.\u001b[0m\u001b[0mloadImgs\u001b[0m\u001b[0;34m(\u001b[0m\u001b[0mimgid\u001b[0m\u001b[0;34m)\u001b[0m\u001b[0;34m[\u001b[0m\u001b[0;36m0\u001b[0m\u001b[0;34m]\u001b[0m\u001b[0;34m\u001b[0m\u001b[0m\n\u001b[1;32m      5\u001b[0m \u001b[0manns\u001b[0m \u001b[0;34m=\u001b[0m \u001b[0mtrain_dataset\u001b[0m\u001b[0;34m.\u001b[0m\u001b[0mloadAnns\u001b[0m\u001b[0;34m(\u001b[0m\u001b[0mimgId\u001b[0m\u001b[0;34m=\u001b[0m\u001b[0mimgid\u001b[0m\u001b[0;34m)\u001b[0m\u001b[0;34m\u001b[0m\u001b[0m\n",
      "\u001b[0;31mAttributeError\u001b[0m: 'DOTADetection' object has no attribute 'getImgIds'"
     ]
    }
   ],
   "source": [
    "imgids = train_dataset.getImgIds(catNms=['plane'])\n",
    "print(imgids)\n",
    "imgid = imgids[0]\n",
    "img = train_dataset.loadImgs(imgid)[0]\n",
    "anns = train_dataset.loadAnns(imgId=imgid)\n"
   ]
  },
  {
   "cell_type": "code",
   "execution_count": 26,
   "metadata": {},
   "outputs": [],
   "source": [
    "label_t = [{'name': 'tennis-court', 'difficult': '0', 'poly': [(1149.0, 215.0), (1237.0, 216.0), (1234.0, 404.0), (1145.0, 402.0)], 'area': 16599.0, 'bndbox': (1145.0, 215.0, 1237.0, 404.0)}, {'name': 'tennis-court', 'difficult': '0', 'poly': [(1004.0, 213.0), (1092.0, 213.0), (1089.0, 403.0), (1000.0, 402.0)], 'area': 16772.5, 'bndbox': (1000.0, 213.0, 1092.0, 403.0)}, {'name': 'tennis-court', 'difficult': '0', 'poly': [(813.0, 185.0), (901.0, 188.0), (898.0, 375.0), (810.0, 374.0)], 'area': 16550.0, 'bndbox': (810.0, 185.0, 901.0, 375.0)}, {'name': 'tennis-court', 'difficult': '0', 'poly': [(669.0, 182.0), (757.0, 184.0), (754.0, 372.0), (665.0, 369.0)], 'area': 16602.5, 'bndbox': (665.0, 182.0, 757.0, 372.0)}, {'name': 'tennis-court', 'difficult': '0', 'poly': [(523.0, 179.0), (614.0, 181.0), (608.0, 370.0), (520.0, 369.0)], 'area': 16967.0, 'bndbox': (520.0, 179.0, 614.0, 370.0)}, {'name': 'tennis-court', 'difficult': '0', 'poly': [(950.0, 534.0), (1039.0, 535.0), (1037.0, 723.0), (948.0, 723.0)], 'area': 16777.5, 'bndbox': (948.0, 534.0, 1039.0, 723.0)}, {'name': 'tennis-court', 'difficult': '0', 'poly': [(1094.0, 535.0), (1184.0, 536.0), (1180.0, 725.0), (1092.0, 725.0)], 'area': 16867.0, 'bndbox': (1092.0, 535.0, 1184.0, 725.0)}, {'name': 'tennis-court', 'difficult': '0', 'poly': [(1430.0, 590.0), (1519.0, 589.0), (1517.0, 778.0), (1427.0, 778.0)], 'area': 16869.5, 'bndbox': (1427.0, 589.0, 1519.0, 778.0)}, {'name': 'tennis-court', 'difficult': '0', 'poly': [(1288.0, 587.0), (1375.0, 589.0), (1371.0, 776.0), (1286.0, 774.0)], 'area': 16088.0, 'bndbox': (1286.0, 587.0, 1375.0, 776.0)}, {'name': 'tennis-court', 'difficult': '0', 'poly': [(1415.0, 927.0), (1503.0, 928.0), (1501.0, 1119.0), (1412.0, 1117.0)], 'area': 16863.0, 'bndbox': (1412.0, 927.0, 1503.0, 1119.0)}, {'name': 'tennis-court', 'difficult': '0', 'poly': [(1271.0, 925.0), (1360.0, 925.0), (1356.0, 1114.0), (1267.0, 1114.0)], 'area': 16821.0, 'bndbox': (1267.0, 925.0, 1360.0, 1114.0)}, {'name': 'tennis-court', 'difficult': '0', 'poly': [(1071.0, 861.0), (1158.0, 863.0), (1155.0, 1051.0), (1068.0, 1051.0)], 'area': 16446.0, 'bndbox': (1068.0, 861.0, 1158.0, 1051.0)}, {'name': 'tennis-court', 'difficult': '0', 'poly': [(805.0, 532.0), (895.0, 534.0), (892.0, 723.0), (805.0, 723.0)], 'area': 16816.5, 'bndbox': (805.0, 532.0, 895.0, 723.0)}, {'name': 'tennis-court', 'difficult': '0', 'poly': [(613.0, 638.0), (702.0, 640.0), (697.0, 829.0), (607.0, 825.0)], 'area': 16842.5, 'bndbox': (607.0, 638.0, 702.0, 829.0)}, {'name': 'tennis-court', 'difficult': '0', 'poly': [(469.0, 635.0), (558.0, 637.0), (553.0, 826.0), (465.0, 823.0)], 'area': 16693.5, 'bndbox': (465.0, 635.0, 558.0, 826.0)}, {'name': 'tennis-court', 'difficult': '0', 'poly': [(241.0, 559.0), (331.0, 561.0), (327.0, 749.0), (239.0, 748.0)], 'area': 16781.0, 'bndbox': (239.0, 559.0, 331.0, 749.0)}]\n",
    "DOTA_CLASSES = ('plane', 'baseball-diamond', 'bridge', 'ground-track-field', 'small-vehicle', 'large-vehicle', 'ship', 'tennis-court',\n",
    "               'basketball-court', 'storage-tank',  'soccer-ball-field', 'roundabout', 'harbor', 'swimming-pool', 'helicopter')"
   ]
  },
  {
   "cell_type": "code",
   "execution_count": 27,
   "metadata": {},
   "outputs": [],
   "source": [
    "labels = []\n",
    "class_to_ind = dict(zip(DOTA_CLASSES, range(len(DOTA_CLASSES))))\n",
    "for num,ann in enumerate(label_t):\n",
    "    labels.append([])\n",
    "    labels[num].extend(list(ann['bndbox']))\n",
    "    labels[num].append(class_to_ind[ann['name']])\n",
    "res = np.empty((0, 5))\n",
    "res = np.vstack((res, labels))"
   ]
  },
  {
   "cell_type": "code",
   "execution_count": 28,
   "metadata": {},
   "outputs": [
    {
     "data": {
      "text/plain": [
       "array([[ 1145.,   215.,  1237.,   404.,     7.],\n",
       "       [ 1000.,   213.,  1092.,   403.,     7.],\n",
       "       [  810.,   185.,   901.,   375.,     7.],\n",
       "       [  665.,   182.,   757.,   372.,     7.],\n",
       "       [  520.,   179.,   614.,   370.,     7.],\n",
       "       [  948.,   534.,  1039.,   723.,     7.],\n",
       "       [ 1092.,   535.,  1184.,   725.,     7.],\n",
       "       [ 1427.,   589.,  1519.,   778.,     7.],\n",
       "       [ 1286.,   587.,  1375.,   776.,     7.],\n",
       "       [ 1412.,   927.,  1503.,  1119.,     7.],\n",
       "       [ 1267.,   925.,  1360.,  1114.,     7.],\n",
       "       [ 1068.,   861.,  1158.,  1051.,     7.],\n",
       "       [  805.,   532.,   895.,   723.,     7.],\n",
       "       [  607.,   638.,   702.,   829.,     7.],\n",
       "       [  465.,   635.,   558.,   826.,     7.],\n",
       "       [  239.,   559.,   331.,   749.,     7.]])"
      ]
     },
     "execution_count": 28,
     "metadata": {},
     "output_type": "execute_result"
    }
   ],
   "source": [
    "res"
   ]
  },
  {
   "cell_type": "code",
   "execution_count": 6,
   "metadata": {
    "collapsed": true
   },
   "outputs": [
    {
     "data": {
      "text/plain": [
       "[0,\n",
       " 2,\n",
       " 4,\n",
       " 6,\n",
       " 8,\n",
       " 10,\n",
       " 12,\n",
       " 14,\n",
       " 16,\n",
       " 18,\n",
       " 20,\n",
       " 22,\n",
       " 24,\n",
       " 26,\n",
       " 28,\n",
       " 30,\n",
       " 32,\n",
       " 34,\n",
       " 36,\n",
       " 38,\n",
       " 40,\n",
       " 42,\n",
       " 44,\n",
       " 46,\n",
       " 48]"
      ]
     },
     "execution_count": 6,
     "metadata": {},
     "output_type": "execute_result"
    }
   ],
   "source": [
    "a = [x for x in range(50) if x%2==0]\n",
    "a"
   ]
  },
  {
   "cell_type": "code",
   "execution_count": 22,
   "metadata": {},
   "outputs": [
    {
     "name": "stdout",
     "output_type": "stream",
     "text": [
      "1\n"
     ]
    }
   ],
   "source": [
    "import os\n",
    "file_path = \"E:/tt/abc.py\"\n",
    "filepath,fullflname = os.path.split(file_path)\n",
    "if os.path.splitext(fullflname)[-1] == '.png':\n",
    "    print('1')"
   ]
  },
  {
   "cell_type": "code",
   "execution_count": null,
   "metadata": {},
   "outputs": [],
   "source": [
    "import os\n",
    "file_path = \"E:/tt/abc.py\"\n",
    "filepath,fullflname = os.path.split(file_path)\n",
    "fname,ext = os.path.splitext(fullflname)"
   ]
  },
  {
   "cell_type": "code",
   "execution_count": null,
   "metadata": {},
   "outputs": [],
   "source": [
    "a = set()"
   ]
  }
 ],
 "metadata": {
  "kernelspec": {
   "display_name": "Python 3",
   "language": "python",
   "name": "python3"
  },
  "language_info": {
   "codemirror_mode": {
    "name": "ipython",
    "version": 3
   },
   "file_extension": ".py",
   "mimetype": "text/x-python",
   "name": "python",
   "nbconvert_exporter": "python",
   "pygments_lexer": "ipython3",
   "version": "3.6.4"
  }
 },
 "nbformat": 4,
 "nbformat_minor": 2
}
